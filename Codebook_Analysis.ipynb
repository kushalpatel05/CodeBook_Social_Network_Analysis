{
 "cells": [
  {
   "cell_type": "markdown",
   "id": "e690b8f5-15e8-46b5-b4cc-ef22350bed30",
   "metadata": {},
   "source": [
    "# Welcome to CodeBook – Your Data Science Internship Begins!\n",
    "\n",
    "# **Part-1 Data Loading and Exploration**\n",
    "Congratulations! You have just been hired as a **Data Scientist Intern** at **CodeBook – The Social Media for Coders**. This XYZ company is offering you a **job** if you successfully complete this **1-month internship**. But before you get there, you must prove your skills using **only Python**—no pandas, NumPy, or fancy libraries!\n",
    "\n",
    "Your manager has assigned you your **first task**: analyzing a data dump of CodeBook users using pure python. Your job is to **load and explore the data** to understand its structure.\n",
    "\n",
    "---\n",
    "\n",
    "## **Task 1: Load the User Data**\n",
    "Your manager has given you a dataset containing information about CodeBook users, their connections (friends), and the pages they have liked.\n",
    "\n",
    "This is how the data will look like (in JSON format):\n",
    "```json\n",
    "{\n",
    "    \"users\": [\n",
    "        {\"id\": 1, \"name\": \"Amit\", \"friends\": [2, 3], \"liked_pages\": [101]},\n",
    "        {\"id\": 2, \"name\": \"Priya\", \"friends\": [1, 4], \"liked_pages\": [102]},\n",
    "        {\"id\": 3, \"name\": \"Rahul\", \"friends\": [1], \"liked_pages\": [101, 103]},\n",
    "        {\"id\": 4, \"name\": \"Sara\", \"friends\": [2], \"liked_pages\": [104]}\n",
    "    ],\n",
    "    \"pages\": [\n",
    "        {\"id\": 101, \"name\": \"Python Developers\"},\n",
    "        {\"id\": 102, \"name\": \"Data Science Enthusiasts\"},\n",
    "        {\"id\": 103, \"name\": \"AI & ML Community\"},\n",
    "        {\"id\": 104, \"name\": \"Web Dev Hub\"}\n",
    "    ]\n",
    "}\n",
    "```\n",
    "Read this data and understand its structure. The data contains three main components:\n",
    "1. **Users**: Each user has an ID, name, a list of friends (by their IDs), and a list of liked pages (by their IDs).\n",
    "2. **Pages**: Each page has an ID and a name.\n",
    "3. **Connections**: Users can have multiple friends and can like multiple pages.\n",
    "---\n",
    "\n",
    "## **Task 2: Read and Display the Data using Python**\n",
    "Your goal is to **load** this data and **print** it in a structured way. Use Python's built-in modules to accomplish this.\n",
    "\n",
    "We will:\n",
    "1. Save the JSON data in a file (`data.json`).\n",
    "2. Read the JSON file using Python.\n",
    "3. Print user details and their connections.\n",
    "4. Print available pages.\n",
    "\n",
    "---"
   ]
  },
  {
   "cell_type": "code",
   "execution_count": 1,
   "id": "6dd3a59d-987f-4652-b532-8aeede4a636b",
   "metadata": {},
   "outputs": [],
   "source": [
    "import json"
   ]
  },
  {
   "cell_type": "code",
   "execution_count": 2,
   "id": "a7ba905a-5427-4c2d-ae5d-54b509123a5c",
   "metadata": {},
   "outputs": [],
   "source": [
    "# Let's write a function to load the data\n",
    "\n",
    "def load_data(filename):\n",
    "    with open(filename,\"r\") as f:\n",
    "        data = json.load(f)\n",
    "    return data"
   ]
  },
  {
   "cell_type": "code",
   "execution_count": 3,
   "id": "8dafd408-a900-4131-9f35-530b11d1ebd8",
   "metadata": {},
   "outputs": [],
   "source": [
    "data = load_data(\"data/original_data.json\")"
   ]
  },
  {
   "cell_type": "code",
   "execution_count": 4,
   "id": "8d88ad60-3ea7-48c7-a684-01bd9ebba3fb",
   "metadata": {},
   "outputs": [
    {
     "data": {
      "text/plain": [
       "{'users': [{'id': 1, 'name': 'Amit', 'friends': [2, 3], 'liked_pages': [101]},\n",
       "  {'id': 2, 'name': 'Priya', 'friends': [1, 4], 'liked_pages': [102]},\n",
       "  {'id': 3, 'name': 'Rahul', 'friends': [1], 'liked_pages': [101, 103]},\n",
       "  {'id': 4, 'name': 'Sara', 'friends': [2], 'liked_pages': [104]}],\n",
       " 'pages': [{'id': 101, 'name': 'Python Developers'},\n",
       "  {'id': 102, 'name': 'Data Science Enthusiasts'},\n",
       "  {'id': 103, 'name': 'AI & ML Community'},\n",
       "  {'id': 104, 'name': 'Web Dev Hub'}]}"
      ]
     },
     "execution_count": 4,
     "metadata": {},
     "output_type": "execute_result"
    }
   ],
   "source": [
    "data "
   ]
  },
  {
   "cell_type": "code",
   "execution_count": 5,
   "id": "56b6766d-acc6-4532-95f2-e19e8079458f",
   "metadata": {},
   "outputs": [
    {
     "name": "stdout",
     "output_type": "stream",
     "text": [
      "Users and their Connetions:-\n",
      "ID:1 - Amit's friends are [2, 3] and his liked pages are [101].\n",
      "ID:2 - Priya's friends are [1, 4] and his liked pages are [102].\n",
      "ID:3 - Rahul's friends are [1] and his liked pages are [101, 103].\n",
      "ID:4 - Sara's friends are [2] and his liked pages are [104].\n",
      "\n",
      "Pages informtion:-\n",
      "101: Python Developers\n",
      "102: Data Science Enthusiasts\n",
      "103: AI & ML Community\n",
      "104: Web Dev Hub\n"
     ]
    }
   ],
   "source": [
    "# Write as function to display users and thier connections with pages\n",
    "\n",
    "def display_users(data):\n",
    "    print(\"Users and their Connetions:-\")\n",
    "    for user in data['users']:\n",
    "        print(f\"ID:{user['id']} - {user['name']}'s friends are {user['friends']} and his liked pages are {user['liked_pages']}.\")\n",
    "    print(\"\\nPages informtion:-\")\n",
    "    for page in data['pages']:\n",
    "        print(f\"{page['id']}: {page['name']}\")\n",
    "\n",
    "display_users(data)"
   ]
  },
  {
   "cell_type": "markdown",
   "id": "4ec577a7-5a23-41b0-89c0-f29e7ffc9381",
   "metadata": {},
   "source": [
    "# **Part-2 Cleaning and Structuring the Data**\n",
    "Your manager is impressed with your progress but points out that the data is messy. Before we can analyze it effectively, we need to **clean and structure the data** properly.\n",
    "\n",
    "Your task is to:\n",
    "- Handle missing values\n",
    "- Remove duplicate or inconsistent data\n",
    "- Standardize the data format\n",
    "\n",
    "Let's get started!\n",
    "\n",
    "---\n",
    "\n",
    "## **Task 1: Identify Issues in the Data**\n",
    "Your manager provides you with an example dataset where some records are incomplete or incorrect. Here’s an example:\n",
    "\n",
    "```json\n",
    "{\n",
    "    \"users\": [\n",
    "        {\"id\": 1, \"name\": \"Amit\", \"friends\": [2, 3], \"liked_pages\": [101]},\n",
    "        {\"id\": 2, \"name\": \"Priya\", \"friends\": [1, 4], \"liked_pages\": [102]},\n",
    "        {\"id\": 3, \"name\": \"\", \"friends\": [1], \"liked_pages\": [101, 103]},\n",
    "        {\"id\": 4, \"name\": \"Sara\", \"friends\": [2, 2], \"liked_pages\": [104]},\n",
    "        {\"id\": 5, \"name\": \"Amit\", \"friends\": [], \"liked_pages\": []}\n",
    "    ],\n",
    "    \"pages\": [\n",
    "        {\"id\": 101, \"name\": \"Python Developers\"},\n",
    "        {\"id\": 102, \"name\": \"Data Science Enthusiasts\"},\n",
    "        {\"id\": 103, \"name\": \"AI & ML Community\"},\n",
    "        {\"id\": 104, \"name\": \"Web Dev Hub\"},\n",
    "        {\"id\": 104, \"name\": \"Web Development\"}\n",
    "    ]\n",
    "}\n",
    "```\n",
    "\n",
    "**Problems:**\n",
    "1. User **ID 3** has an empty name.\n",
    "2. User **ID 4** has a duplicate friend entry.\n",
    "3. User **ID 5** has no connections or liked pages (inactive user).\n",
    "4. The **pages list** contains duplicate page IDs.\n",
    "\n",
    "---\n",
    "\n",
    "## **Task 2: Clean the Data**\n",
    "We will:\n",
    "1. Remove users with missing names.\n",
    "2. Remove duplicate friend entries.\n",
    "3. Remove inactive users (users with no friends and no liked pages).\n",
    "4. Deduplicate pages based on IDs.\n"
   ]
  },
  {
   "cell_type": "code",
   "execution_count": 6,
   "id": "64e43574-8c61-4a71-8bc3-e65a6e3d1c7c",
   "metadata": {},
   "outputs": [
    {
     "name": "stdout",
     "output_type": "stream",
     "text": [
      "Data has been cleaned successfully\n"
     ]
    }
   ],
   "source": [
    "def clean_data(data):\n",
    "    # Remove users with missing name\n",
    "    data['users'] = [user for user in data['users'] if user['name'].strip()]\n",
    "    \n",
    "    # Remove duplicate friends by converting to a set and then back to a list\n",
    "    for user in data['users']:\n",
    "        user['friends'] = list(set(user['friends']))\n",
    "        \n",
    "    # Remove inactive users (users with no friends and no liked pages)  \n",
    "    data['users'] = [user for user in data['users'] if (user['friends'] or user['liked_pages'])]\n",
    "\n",
    "    # Remove duplicate pages\n",
    "    \"\"\" This section uses a dictionary to store pages, leveraging the unique 'id' as keys. When a duplicate 'id' is encountered, the new page object overwrites the old one.\n",
    "     This effectively keeps only the last occurrence of a page with a given ID if there are duplicates.\"\"\"\n",
    "    unique_pages = {}\n",
    "    for page in data['pages']:\n",
    "        unique_pages[page['id']] = page\n",
    "    data['pages'] = list(unique_pages.values())\n",
    "    return data\n",
    "\n",
    "# Load the data\n",
    "data = json.load(open(\"data/messy_data.json\")) \n",
    "data = clean_data(data)\n",
    "json.dump(data, open(\"cleaned_messy_data.json\", \"w\"), indent = 4)\n",
    "print(\"Data has been cleaned successfully\")"
   ]
  },
  {
   "cell_type": "markdown",
   "id": "94d6bc57-3e3b-434f-936b-419d01239df8",
   "metadata": {},
   "source": [
    "# **Part-3 Feature - \"People You May Know\"**\n",
    "Now that our data is cleaned and structured, your manager assigns you a new task: **Build a 'People You May Know' feature!**\n",
    "\n",
    "In social networks, this feature helps users connect with others by suggesting friends based on mutual connections. Your job is to **analyze mutual friends and recommend potential connections**.\n",
    "\n",
    "---\n",
    "\n",
    "## **Task 1: Understand the Logic**\n",
    "### **How 'People You May Know' Works:**\n",
    "\n",
    "- If **User A** and **User B** are not friends but have **mutual friends**, we suggest User B to User A and vice versa.\n",
    "- More mutual friends = higher priority recommendation.\n",
    "\n",
    "Example:\n",
    "- **Amit (ID: 1)** is friends with **Priya (ID: 2)** and **Rahul (ID: 3)**.\n",
    "- **Priya (ID: 2)** is friends with **Sara (ID: 4)**.\n",
    "- Amit is not directly friends with Sara, but they share **Priya as a mutual friend**.\n",
    "- Suggest **Sara to Amit** as \"People You May Know\".\n",
    "\n",
    "---\n",
    "\n",
    "## **Task 2: Implement the Algorithm**\n",
    "We'll create a function that:\n",
    "1. Finds all friends of a given user.\n",
    "2. Identifies mutual friends between non-friends.\n",
    "3. Ranks recommendations by the number of mutual friends."
   ]
  },
  {
   "cell_type": "code",
   "execution_count": 7,
   "id": "1ec9c183-4e5d-45f8-af6a-11ca84abe53e",
   "metadata": {},
   "outputs": [
    {
     "name": "stdout",
     "output_type": "stream",
     "text": [
      "People You May Know for User 3: [2]\n"
     ]
    }
   ],
   "source": [
    "def load_data(filename):\n",
    "    with open(filename,\"r\") as file:\n",
    "        return json.load(file)\n",
    "\n",
    "def find_people_you_may_know(user_id,data):\n",
    "    # Create a dictionary to map each user ID to a set of their friends for efficient lookup.\n",
    "    user_friends = {}\n",
    "    for user in data['users']:\n",
    "        user_friends[user['id']] = set(user['friends'])\n",
    "\n",
    "    # If the provided user_id does not exist, return an empty list.\n",
    "    if user_id not in user_friends:\n",
    "        return []\n",
    "\n",
    "    direct_friends = user_friends[user_id]\n",
    "    suggestions = {}\n",
    "\n",
    "    # Iterate through all of the user's direct friends.\n",
    "    for friend in direct_friends:     # id:1's friends = {2,3}\n",
    "        # For all friends of friend\n",
    "        for mutual in user_friends[friend]:    # id:2's friends = {1,4} & id:3's friends = {1}\n",
    "            # If mutual id is not the same user and not already a direct friend of user\n",
    "            if mutual != user_id and mutual not in direct_friends:\n",
    "                # Count mutual friends\n",
    "                suggestions[mutual] = suggestions.get(mutual, 0) + 1\n",
    "                \n",
    "    # Sort the suggestions in descending order based on the number of mutual friends.\n",
    "    sorted_suggestions = sorted(suggestions.items(), key=lambda x:x[1], reverse = True)\n",
    "    return [suggestion_id for suggestion_id, mutual_count in sorted_suggestions]\n",
    "    \n",
    "# Load the data\n",
    "data = load_data(\"data/original_data.json\")\n",
    "user_id = 3\n",
    "recommendations = find_people_you_may_know(user_id,data)\n",
    "print(f\"People You May Know for User {user_id}: {recommendations}\")"
   ]
  },
  {
   "cell_type": "markdown",
   "id": "b4ef88d2-3621-42ee-9153-ddc6d04f47e4",
   "metadata": {},
   "source": [
    "# **Part-4 Feature - \"Pages You Might Like\"**\n",
    "We’ve officially reached the final milestone of our first data science project at\n",
    "CodeBook – The Social Media for Coders. After cleaning messy data and building\n",
    "features like People You May Know, it’s time to launch our last feature: **\"Pages You\n",
    "Might Like\"**.\n",
    "\n",
    "---\n",
    "## **Task 1: Understand the Logic**\n",
    "### **How ‘Pages You Might Like’ Works:**\n",
    "\n",
    "- Users engage with pages (like, comment, share, etc.).\n",
    "- If two users have interacted with similar pages, they are likely to have common\n",
    "interests.\n",
    "- For the sake of this implementation, we consider liking a page as an\n",
    "interaction\n",
    "- Pages followed by similar users should be recommended.\n",
    "  \n",
    "Example:\n",
    "- **Amit (ID: 1)** likes Python Hub **(Page ID: 101)** and AI World **(Page ID: 102)**.\n",
    "- **Priya (ID: 2)** likes AI World **(Page ID: 102)** and Data Science Daily **(Page ID:\n",
    "103)**.\n",
    "- Since Amit and Priya both like AI World **(102)**, we suggest Data Science Daily\n",
    "**(103)** to **Amit** and Python Hub **(101)** to **Priya**.\n",
    "\n",
    "---\n",
    "\n",
    "## **Task 2: Implement the Algorithm**\n",
    "\n",
    "We’ll create a function that:\n",
    "1. Maps users to pages they have interacted with.\n",
    "2. Identifies pages liked by users with similar interests.\n",
    "3. Ranks recommendations based on common interactions.\n"
   ]
  },
  {
   "cell_type": "code",
   "execution_count": 8,
   "id": "9e573891-f379-4ef1-80c8-4a0230eaf789",
   "metadata": {},
   "outputs": [
    {
     "name": "stdout",
     "output_type": "stream",
     "text": [
      "Pages You Might Like for User 4: [[(101, 2), (102, 1), (103, 1)]]\n"
     ]
    }
   ],
   "source": [
    "# Function to load the json data\n",
    "def load_data(filename):\n",
    "    with open(filename, \"r\") as f:\n",
    "        return json.load(f)\n",
    "\n",
    "# Function to find pages a user might like based on common interests\n",
    "def find_pages_you_might_like(user_id, data):\n",
    "    # Dictionary to store user interactions with pages\n",
    "    user_pages = {}\n",
    "    \n",
    "    # Populate the dictionary by iterating through the 'users' in the data\n",
    "    for user in data['users']:\n",
    "        user_pages[user['id']] = set(user['liked_pages'])\n",
    "\n",
    "    # If the user is not found, return an empty list\n",
    "    if user_id not in user_pages:\n",
    "        return []\n",
    "        \n",
    "    user_liked_pages = user_pages[user_id]\n",
    "    page_suggestion = {}\n",
    "\n",
    "    # Iterate through all other users to find shared pages.\n",
    "    for other_user, pages in user_pages.items():\n",
    "        if other_user != user_id:\n",
    "            # Find pages liked by both the target user and the other user\n",
    "            shared_pages = user_liked_pages.intersection(pages)\n",
    "\n",
    "        # Iterate through the other user's liked pages\n",
    "        for page in pages:\n",
    "            if page not in user_liked_pages:\n",
    "                # Count page liked by a user\n",
    "                page_suggestion[page] = page_suggestion.get(page, 0) + 1\n",
    "\n",
    "    # Sort the suggestions in descending order based on their recommendation score\n",
    "    sorted_pages = sorted(page_suggestion.items(), key=lambda x: x[1], reverse=True)\n",
    "    return [sorted_pages]\n",
    "\n",
    "# Load the data\n",
    "data = load_data(\"data/original_data.json\")\n",
    "user_id = 4\n",
    "page_recommendations = find_pages_you_might_like(user_id, data)\n",
    "print(f\"Pages You Might Like for User {user_id}: {page_recommendations}\")"
   ]
  },
  {
   "cell_type": "code",
   "execution_count": null,
   "id": "fb5f30e4-a2b9-41d8-b91d-027117a39901",
   "metadata": {},
   "outputs": [],
   "source": []
  }
 ],
 "metadata": {
  "kernelspec": {
   "display_name": "Python [conda env:base] *",
   "language": "python",
   "name": "conda-base-py"
  },
  "language_info": {
   "codemirror_mode": {
    "name": "ipython",
    "version": 3
   },
   "file_extension": ".py",
   "mimetype": "text/x-python",
   "name": "python",
   "nbconvert_exporter": "python",
   "pygments_lexer": "ipython3",
   "version": "3.13.5"
  }
 },
 "nbformat": 4,
 "nbformat_minor": 5
}
